{
 "cells": [
  {
   "cell_type": "code",
   "execution_count": 1,
   "id": "012e24f9",
   "metadata": {},
   "outputs": [],
   "source": [
    "x=5\n",
    "y=3"
   ]
  },
  {
   "cell_type": "code",
   "execution_count": 2,
   "id": "135b8906",
   "metadata": {},
   "outputs": [
    {
     "data": {
      "text/plain": [
       "8"
      ]
     },
     "execution_count": 2,
     "metadata": {},
     "output_type": "execute_result"
    }
   ],
   "source": [
    "x+y"
   ]
  },
  {
   "cell_type": "code",
   "execution_count": null,
   "id": "80fa2643",
   "metadata": {},
   "outputs": [],
   "source": [
    "Rule no 1: No name spaces while declaring the variable name\n"
   ]
  },
  {
   "cell_type": "code",
   "execution_count": 3,
   "id": "9cfc2086",
   "metadata": {},
   "outputs": [
    {
     "name": "stdout",
     "output_type": "stream",
     "text": [
      "dattu\n"
     ]
    }
   ],
   "source": [
    "firstname='dattu'\n",
    "print(firstname)"
   ]
  },
  {
   "cell_type": "code",
   "execution_count": null,
   "id": "c565cd1c",
   "metadata": {},
   "outputs": [],
   "source": [
    "Rule no 2: A variable name should not start with a number"
   ]
  },
  {
   "cell_type": "code",
   "execution_count": 4,
   "id": "ec91ae8e",
   "metadata": {},
   "outputs": [
    {
     "ename": "SyntaxError",
     "evalue": "invalid syntax (Temp/ipykernel_10088/2806769300.py, line 1)",
     "output_type": "error",
     "traceback": [
      "\u001b[1;36m  File \u001b[1;32m\"C:\\Users\\DELL\\AppData\\Local\\Temp/ipykernel_10088/2806769300.py\"\u001b[1;36m, line \u001b[1;32m1\u001b[0m\n\u001b[1;33m    1name='sai'\u001b[0m\n\u001b[1;37m     ^\u001b[0m\n\u001b[1;31mSyntaxError\u001b[0m\u001b[1;31m:\u001b[0m invalid syntax\n"
     ]
    }
   ],
   "source": [
    "1name='sai'\n",
    "print(1name)"
   ]
  },
  {
   "cell_type": "code",
   "execution_count": 5,
   "id": "b6e5b7cf",
   "metadata": {},
   "outputs": [
    {
     "name": "stdout",
     "output_type": "stream",
     "text": [
      "sai\n"
     ]
    }
   ],
   "source": [
    "name1='sai'\n",
    "print(name1)"
   ]
  },
  {
   "cell_type": "code",
   "execution_count": 6,
   "id": "688f7038",
   "metadata": {},
   "outputs": [
    {
     "ename": "SyntaxError",
     "evalue": "invalid syntax (Temp/ipykernel_10088/4284848910.py, line 1)",
     "output_type": "error",
     "traceback": [
      "\u001b[1;36m  File \u001b[1;32m\"C:\\Users\\DELL\\AppData\\Local\\Temp/ipykernel_10088/4284848910.py\"\u001b[1;36m, line \u001b[1;32m1\u001b[0m\n\u001b[1;33m    Rule no 3: A variable name should not contain any special charecters\u001b[0m\n\u001b[1;37m         ^\u001b[0m\n\u001b[1;31mSyntaxError\u001b[0m\u001b[1;31m:\u001b[0m invalid syntax\n"
     ]
    }
   ],
   "source": [
    "Rule no 3: A variable name should not contain any special charecters"
   ]
  },
  {
   "cell_type": "code",
   "execution_count": 7,
   "id": "f5ea80bc",
   "metadata": {},
   "outputs": [
    {
     "ename": "SyntaxError",
     "evalue": "invalid syntax (Temp/ipykernel_10088/262007467.py, line 2)",
     "output_type": "error",
     "traceback": [
      "\u001b[1;36m  File \u001b[1;32m\"C:\\Users\\DELL\\AppData\\Local\\Temp/ipykernel_10088/262007467.py\"\u001b[1;36m, line \u001b[1;32m2\u001b[0m\n\u001b[1;33m    print(name@)\u001b[0m\n\u001b[1;37m               ^\u001b[0m\n\u001b[1;31mSyntaxError\u001b[0m\u001b[1;31m:\u001b[0m invalid syntax\n"
     ]
    }
   ],
   "source": [
    "name@=\" dattu\"\n",
    "print(name@)"
   ]
  },
  {
   "cell_type": "code",
   "execution_count": 8,
   "id": "5e6da25d",
   "metadata": {},
   "outputs": [
    {
     "ename": "SyntaxError",
     "evalue": "invalid syntax (Temp/ipykernel_10088/2120634392.py, line 1)",
     "output_type": "error",
     "traceback": [
      "\u001b[1;36m  File \u001b[1;32m\"C:\\Users\\DELL\\AppData\\Local\\Temp/ipykernel_10088/2120634392.py\"\u001b[1;36m, line \u001b[1;32m1\u001b[0m\n\u001b[1;33m    Introduction to data types in python\u001b[0m\n\u001b[1;37m                 ^\u001b[0m\n\u001b[1;31mSyntaxError\u001b[0m\u001b[1;31m:\u001b[0m invalid syntax\n"
     ]
    }
   ],
   "source": [
    "Introduction to data types in python"
   ]
  },
  {
   "cell_type": "code",
   "execution_count": null,
   "id": "2e8467e5",
   "metadata": {},
   "outputs": [],
   "source": [
    "1. String"
   ]
  },
  {
   "cell_type": "code",
   "execution_count": null,
   "id": "59cc536f",
   "metadata": {},
   "outputs": [],
   "source": [
    "2.Numbers------->Integers and floats(decimal)"
   ]
  },
  {
   "cell_type": "code",
   "execution_count": null,
   "id": "cd708603",
   "metadata": {},
   "outputs": [],
   "source": [
    "3. list"
   ]
  },
  {
   "cell_type": "code",
   "execution_count": null,
   "id": "e6eaa1bb",
   "metadata": {},
   "outputs": [],
   "source": [
    "4. tuple"
   ]
  },
  {
   "cell_type": "code",
   "execution_count": null,
   "id": "040cd759",
   "metadata": {},
   "outputs": [],
   "source": [
    "5. dictionaries"
   ]
  },
  {
   "cell_type": "code",
   "execution_count": null,
   "id": "9686f0b4",
   "metadata": {},
   "outputs": [],
   "source": [
    "classification of data types in python:"
   ]
  },
  {
   "cell_type": "code",
   "execution_count": null,
   "id": "cd468155",
   "metadata": {},
   "outputs": [],
   "source": [
    "data types are broadly classified into two catagories"
   ]
  },
  {
   "cell_type": "code",
   "execution_count": null,
   "id": "a4add548",
   "metadata": {},
   "outputs": [],
   "source": [
    "1. mutable-> Which can be edited/ altered.....flexible data types"
   ]
  },
  {
   "cell_type": "code",
   "execution_count": null,
   "id": "1ee3fec9",
   "metadata": {},
   "outputs": [],
   "source": [
    "2. immutable-> which can not be edited / nor altered.......fixed data types"
   ]
  },
  {
   "cell_type": "code",
   "execution_count": null,
   "id": "f833f24a",
   "metadata": {},
   "outputs": [],
   "source": [
    "introduction to string data type:"
   ]
  },
  {
   "cell_type": "code",
   "execution_count": null,
   "id": "21079f5f",
   "metadata": {},
   "outputs": [],
   "source": [
    "definition: a string is a series of charecters declared in quotes"
   ]
  },
  {
   "cell_type": "code",
   "execution_count": null,
   "id": "876f37be",
   "metadata": {},
   "outputs": [],
   "source": [
    "classified: it is classified as an immutable data type(fixed data type)"
   ]
  },
  {
   "cell_type": "code",
   "execution_count": null,
   "id": "443c1a24",
   "metadata": {},
   "outputs": [],
   "source": [
    "3 possible approaches"
   ]
  },
  {
   "cell_type": "code",
   "execution_count": null,
   "id": "70d227d2",
   "metadata": {},
   "outputs": [],
   "source": [
    "1.single quote"
   ]
  },
  {
   "cell_type": "code",
   "execution_count": null,
   "id": "d510147a",
   "metadata": {},
   "outputs": [],
   "source": [
    "2. double quote"
   ]
  },
  {
   "cell_type": "code",
   "execution_count": null,
   "id": "dcc8fffa",
   "metadata": {},
   "outputs": [],
   "source": [
    "3. triple quote"
   ]
  },
  {
   "cell_type": "code",
   "execution_count": 9,
   "id": "77e194a7",
   "metadata": {},
   "outputs": [
    {
     "name": "stdout",
     "output_type": "stream",
     "text": [
      "dattu\n"
     ]
    }
   ],
   "source": [
    "name='dattu'\n",
    "print(name)"
   ]
  },
  {
   "cell_type": "code",
   "execution_count": 10,
   "id": "f6282547",
   "metadata": {},
   "outputs": [
    {
     "name": "stdout",
     "output_type": "stream",
     "text": [
      " kiran\n"
     ]
    }
   ],
   "source": [
    "name2=\" kiran\"\n",
    "print(name2)"
   ]
  },
  {
   "cell_type": "markdown",
   "id": "ac379b76",
   "metadata": {},
   "source": [
    "name3=\"\"\"malyala\"\"\"\n",
    "print(name3)"
   ]
  },
  {
   "cell_type": "code",
   "execution_count": 11,
   "id": "c506922f",
   "metadata": {},
   "outputs": [
    {
     "name": "stdout",
     "output_type": "stream",
     "text": [
      "malyala\n"
     ]
    }
   ],
   "source": [
    "name3=\"\"\"malyala\"\"\"\n",
    "print(name3)"
   ]
  },
  {
   "cell_type": "code",
   "execution_count": null,
   "id": "2535c276",
   "metadata": {},
   "outputs": [],
   "source": [
    "# is used for commenting the code"
   ]
  },
  {
   "cell_type": "code",
   "execution_count": null,
   "id": "0d2866f5",
   "metadata": {},
   "outputs": [],
   "source": [
    "intoduction to string methods"
   ]
  },
  {
   "cell_type": "code",
   "execution_count": null,
   "id": "dcc989cb",
   "metadata": {},
   "outputs": [],
   "source": [
    "method are build in program that are available for use"
   ]
  },
  {
   "cell_type": "code",
   "execution_count": 12,
   "id": "fcc01c9f",
   "metadata": {},
   "outputs": [
    {
     "data": {
      "text/plain": [
       "str"
      ]
     },
     "execution_count": 12,
     "metadata": {},
     "output_type": "execute_result"
    }
   ],
   "source": [
    "type(name)"
   ]
  },
  {
   "cell_type": "code",
   "execution_count": null,
   "id": "5bdb970f",
   "metadata": {},
   "outputs": [],
   "source": [
    "string-----> str"
   ]
  },
  {
   "cell_type": "code",
   "execution_count": 13,
   "id": "ddd24170",
   "metadata": {},
   "outputs": [
    {
     "data": {
      "text/plain": [
       "str"
      ]
     },
     "execution_count": 13,
     "metadata": {},
     "output_type": "execute_result"
    }
   ],
   "source": [
    "type(name2)"
   ]
  },
  {
   "cell_type": "code",
   "execution_count": 14,
   "id": "26085524",
   "metadata": {},
   "outputs": [
    {
     "data": {
      "text/plain": [
       "str"
      ]
     },
     "execution_count": 14,
     "metadata": {},
     "output_type": "execute_result"
    }
   ],
   "source": [
    "type(name3)"
   ]
  },
  {
   "cell_type": "code",
   "execution_count": 15,
   "id": "21539b75",
   "metadata": {},
   "outputs": [
    {
     "ename": "SyntaxError",
     "evalue": "invalid syntax (Temp/ipykernel_10088/1465487343.py, line 1)",
     "output_type": "error",
     "traceback": [
      "\u001b[1;36m  File \u001b[1;32m\"C:\\Users\\DELL\\AppData\\Local\\Temp/ipykernel_10088/1465487343.py\"\u001b[1;36m, line \u001b[1;32m1\u001b[0m\n\u001b[1;33m    full name=\"malyaladattu\"\u001b[0m\n\u001b[1;37m         ^\u001b[0m\n\u001b[1;31mSyntaxError\u001b[0m\u001b[1;31m:\u001b[0m invalid syntax\n"
     ]
    }
   ],
   "source": [
    "full name=\"malyaladattu\"\n",
    "print(full name)"
   ]
  },
  {
   "cell_type": "code",
   "execution_count": 16,
   "id": "55397100",
   "metadata": {},
   "outputs": [
    {
     "name": "stdout",
     "output_type": "stream",
     "text": [
      "malyaladattu\n"
     ]
    }
   ],
   "source": [
    "fullname=\"malyaladattu\"\n",
    "print(fullname)"
   ]
  },
  {
   "cell_type": "code",
   "execution_count": 17,
   "id": "f79c34d2",
   "metadata": {},
   "outputs": [
    {
     "name": "stdout",
     "output_type": "stream",
     "text": [
      "Malyaladattu\n"
     ]
    }
   ],
   "source": [
    "print(fullname.title())"
   ]
  },
  {
   "cell_type": "code",
   "execution_count": null,
   "id": "41e21e85",
   "metadata": {},
   "outputs": [],
   "source": [
    "# title method will be changing the first letter of the word to capital"
   ]
  },
  {
   "cell_type": "code",
   "execution_count": null,
   "id": "3f671c72",
   "metadata": {},
   "outputs": [],
   "source": [
    "# req: i want full name in complete capita letters"
   ]
  },
  {
   "cell_type": "code",
   "execution_count": 18,
   "id": "abdba614",
   "metadata": {},
   "outputs": [
    {
     "name": "stdout",
     "output_type": "stream",
     "text": [
      "MALYALADATTU\n"
     ]
    }
   ],
   "source": [
    "print(fullname.upper())"
   ]
  },
  {
   "cell_type": "code",
   "execution_count": 19,
   "id": "5c09dc40",
   "metadata": {},
   "outputs": [
    {
     "name": "stdout",
     "output_type": "stream",
     "text": [
      "malyaladattu\n"
     ]
    }
   ],
   "source": [
    "print(fullname.lower())"
   ]
  },
  {
   "cell_type": "code",
   "execution_count": null,
   "id": "877273ce",
   "metadata": {},
   "outputs": [],
   "source": []
  },
  {
   "cell_type": "code",
   "execution_count": null,
   "id": "9d6daa90",
   "metadata": {},
   "outputs": [],
   "source": []
  },
  {
   "cell_type": "code",
   "execution_count": null,
   "id": "ec80fa31",
   "metadata": {},
   "outputs": [],
   "source": []
  },
  {
   "cell_type": "code",
   "execution_count": null,
   "id": "aac46fb6",
   "metadata": {},
   "outputs": [],
   "source": []
  },
  {
   "cell_type": "code",
   "execution_count": null,
   "id": "f7d0e78a",
   "metadata": {},
   "outputs": [],
   "source": []
  },
  {
   "cell_type": "code",
   "execution_count": null,
   "id": "73982ce8",
   "metadata": {},
   "outputs": [],
   "source": []
  },
  {
   "cell_type": "code",
   "execution_count": null,
   "id": "8e9bb3e2",
   "metadata": {},
   "outputs": [],
   "source": []
  },
  {
   "cell_type": "code",
   "execution_count": null,
   "id": "a4b6f6c5",
   "metadata": {},
   "outputs": [],
   "source": []
  },
  {
   "cell_type": "code",
   "execution_count": null,
   "id": "d8fa187a",
   "metadata": {},
   "outputs": [],
   "source": []
  },
  {
   "cell_type": "code",
   "execution_count": null,
   "id": "9406e128",
   "metadata": {},
   "outputs": [],
   "source": []
  },
  {
   "cell_type": "code",
   "execution_count": null,
   "id": "dd55bf4a",
   "metadata": {},
   "outputs": [],
   "source": []
  },
  {
   "cell_type": "code",
   "execution_count": null,
   "id": "fccf6b4b",
   "metadata": {},
   "outputs": [],
   "source": []
  },
  {
   "cell_type": "code",
   "execution_count": null,
   "id": "93ade4ac",
   "metadata": {},
   "outputs": [],
   "source": []
  },
  {
   "cell_type": "code",
   "execution_count": null,
   "id": "730d1382",
   "metadata": {},
   "outputs": [],
   "source": []
  },
  {
   "cell_type": "code",
   "execution_count": null,
   "id": "d2fc7d19",
   "metadata": {},
   "outputs": [],
   "source": []
  },
  {
   "cell_type": "code",
   "execution_count": null,
   "id": "0c94345f",
   "metadata": {},
   "outputs": [],
   "source": []
  }
 ],
 "metadata": {
  "kernelspec": {
   "display_name": "Python 3 (ipykernel)",
   "language": "python",
   "name": "python3"
  },
  "language_info": {
   "codemirror_mode": {
    "name": "ipython",
    "version": 3
   },
   "file_extension": ".py",
   "mimetype": "text/x-python",
   "name": "python",
   "nbconvert_exporter": "python",
   "pygments_lexer": "ipython3",
   "version": "3.9.7"
  }
 },
 "nbformat": 4,
 "nbformat_minor": 5
}
