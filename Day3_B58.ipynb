{
 "cells": [
  {
   "cell_type": "code",
   "execution_count": null,
   "id": "8eec18ef",
   "metadata": {},
   "outputs": [],
   "source": [
    "continution with strings:"
   ]
  },
  {
   "cell_type": "code",
   "execution_count": null,
   "id": "ccdfeac8",
   "metadata": {},
   "outputs": [],
   "source": [
    "Introduction to f strings:"
   ]
  },
  {
   "cell_type": "code",
   "execution_count": null,
   "id": "50a97bf2",
   "metadata": {},
   "outputs": [],
   "source": [
    "# general syntax of an f strings:"
   ]
  },
  {
   "cell_type": "code",
   "execution_count": null,
   "id": "6b06694f",
   "metadata": {},
   "outputs": [],
   "source": [
    "f\"custom words  {placeholder1} {placeholder2}.......{placeholder...n}\""
   ]
  },
  {
   "cell_type": "code",
   "execution_count": null,
   "id": "9dbe9aa0",
   "metadata": {},
   "outputs": [],
   "source": []
  },
  {
   "cell_type": "code",
   "execution_count": 1,
   "id": "2f51592a",
   "metadata": {},
   "outputs": [],
   "source": [
    "firstname ='malyala'\n",
    "lastname ='dattu'"
   ]
  },
  {
   "cell_type": "code",
   "execution_count": null,
   "id": "5b18577d",
   "metadata": {},
   "outputs": [],
   "source": [
    "# req : i want to get full name......?"
   ]
  },
  {
   "cell_type": "code",
   "execution_count": 2,
   "id": "0d627ac9",
   "metadata": {},
   "outputs": [
    {
     "name": "stdout",
     "output_type": "stream",
     "text": [
      "malyala dattu\n"
     ]
    }
   ],
   "source": [
    "fullname = f\"{firstname} {lastname}\"\n",
    "print (fullname)"
   ]
  },
  {
   "cell_type": "code",
   "execution_count": 3,
   "id": "0c47855b",
   "metadata": {},
   "outputs": [
    {
     "name": "stdout",
     "output_type": "stream",
     "text": [
      "Malyala Dattu\n"
     ]
    }
   ],
   "source": [
    "print(fullname.title())"
   ]
  },
  {
   "cell_type": "code",
   "execution_count": 4,
   "id": "d68a4e66",
   "metadata": {},
   "outputs": [
    {
     "name": "stdout",
     "output_type": "stream",
     "text": [
      "keep up the good work,  Malyala Dattu\n"
     ]
    }
   ],
   "source": [
    "print(f\"keep up the good work,  {fullname.title()}\")"
   ]
  },
  {
   "cell_type": "code",
   "execution_count": null,
   "id": "60a76a87",
   "metadata": {},
   "outputs": [],
   "source": []
  },
  {
   "cell_type": "code",
   "execution_count": null,
   "id": "dc2762c6",
   "metadata": {},
   "outputs": [],
   "source": [
    "adding whitespaces to strings:"
   ]
  },
  {
   "cell_type": "code",
   "execution_count": 5,
   "id": "28b6a11a",
   "metadata": {},
   "outputs": [
    {
     "name": "stdout",
     "output_type": "stream",
     "text": [
      "favourite_language:pythonc++nodejsangularsql\n"
     ]
    }
   ],
   "source": [
    "print(\"favourite_language:pythonc++nodejsangularsql\")"
   ]
  },
  {
   "cell_type": "code",
   "execution_count": 6,
   "id": "9ea19dc0",
   "metadata": {},
   "outputs": [
    {
     "name": "stdout",
     "output_type": "stream",
     "text": [
      "favourite_language:\n",
      "python\n",
      "c++\n",
      "nodejs\n",
      "angular\n",
      "sql\n"
     ]
    }
   ],
   "source": [
    "print(\"favourite_language:\\npython\\nc++\\nnodejs\\nangular\\nsql\")"
   ]
  },
  {
   "cell_type": "code",
   "execution_count": null,
   "id": "995f4030",
   "metadata": {},
   "outputs": [],
   "source": [
    "\\n-----> new line delimeter"
   ]
  },
  {
   "cell_type": "code",
   "execution_count": 7,
   "id": "9c738640",
   "metadata": {},
   "outputs": [
    {
     "name": "stdout",
     "output_type": "stream",
     "text": [
      "favourite_language:\n",
      "\tpython\n",
      "\tc++\n",
      "\tnodejs\n",
      "\tangular\n",
      "\tsql\n"
     ]
    }
   ],
   "source": [
    "print(\"favourite_language:\\n\\tpython\\n\\tc++\\n\\tnodejs\\n\\tangular\\n\\tsql\")"
   ]
  },
  {
   "cell_type": "code",
   "execution_count": null,
   "id": "ad6cf05c",
   "metadata": {},
   "outputs": [],
   "source": [
    "\\t ====> tab delimeter"
   ]
  },
  {
   "cell_type": "code",
   "execution_count": null,
   "id": "be71560c",
   "metadata": {},
   "outputs": [],
   "source": []
  },
  {
   "cell_type": "code",
   "execution_count": null,
   "id": "aea352d1",
   "metadata": {},
   "outputs": [],
   "source": [
    "how to remove spaces from the strings:"
   ]
  },
  {
   "cell_type": "code",
   "execution_count": 8,
   "id": "3ac6a555",
   "metadata": {},
   "outputs": [
    {
     "name": "stdout",
     "output_type": "stream",
     "text": [
      "python\n"
     ]
    }
   ],
   "source": [
    "name= 'python'\n",
    "print(name)"
   ]
  },
  {
   "cell_type": "code",
   "execution_count": 10,
   "id": "43e09ad1",
   "metadata": {},
   "outputs": [
    {
     "name": "stdout",
     "output_type": "stream",
     "text": [
      " angular\n"
     ]
    }
   ],
   "source": [
    "name2 = ' angular'\n",
    "print(name2)"
   ]
  },
  {
   "cell_type": "code",
   "execution_count": 11,
   "id": "cd3f6d51",
   "metadata": {},
   "outputs": [
    {
     "name": "stdout",
     "output_type": "stream",
     "text": [
      "sql  \n"
     ]
    }
   ],
   "source": [
    "name3 = \"sql  \"\n",
    "print(name3)"
   ]
  },
  {
   "cell_type": "code",
   "execution_count": null,
   "id": "87280bd1",
   "metadata": {},
   "outputs": [],
   "source": []
  },
  {
   "cell_type": "code",
   "execution_count": 12,
   "id": "beaf3c8a",
   "metadata": {},
   "outputs": [
    {
     "data": {
      "text/plain": [
       "'angular'"
      ]
     },
     "execution_count": 12,
     "metadata": {},
     "output_type": "execute_result"
    }
   ],
   "source": [
    "name2.lstrip()"
   ]
  },
  {
   "cell_type": "code",
   "execution_count": 13,
   "id": "ef6022df",
   "metadata": {},
   "outputs": [
    {
     "data": {
      "text/plain": [
       "'sql'"
      ]
     },
     "execution_count": 13,
     "metadata": {},
     "output_type": "execute_result"
    }
   ],
   "source": [
    "name3.rstrip()"
   ]
  },
  {
   "cell_type": "code",
   "execution_count": null,
   "id": "f3d1be61",
   "metadata": {},
   "outputs": [],
   "source": []
  },
  {
   "cell_type": "markdown",
   "id": "10289645",
   "metadata": {},
   "source": []
  },
  {
   "cell_type": "code",
   "execution_count": null,
   "id": "69afc640",
   "metadata": {},
   "outputs": [],
   "source": []
  },
  {
   "cell_type": "code",
   "execution_count": null,
   "id": "465f399d",
   "metadata": {},
   "outputs": [],
   "source": []
  },
  {
   "cell_type": "code",
   "execution_count": null,
   "id": "ddca7f2b",
   "metadata": {},
   "outputs": [],
   "source": []
  },
  {
   "cell_type": "code",
   "execution_count": null,
   "id": "93d1597f",
   "metadata": {},
   "outputs": [],
   "source": []
  },
  {
   "cell_type": "code",
   "execution_count": null,
   "id": "74d48837",
   "metadata": {},
   "outputs": [],
   "source": []
  }
 ],
 "metadata": {
  "kernelspec": {
   "display_name": "Python 3 (ipykernel)",
   "language": "python",
   "name": "python3"
  },
  "language_info": {
   "codemirror_mode": {
    "name": "ipython",
    "version": 3
   },
   "file_extension": ".py",
   "mimetype": "text/x-python",
   "name": "python",
   "nbconvert_exporter": "python",
   "pygments_lexer": "ipython3",
   "version": "3.9.7"
  }
 },
 "nbformat": 4,
 "nbformat_minor": 5
}
